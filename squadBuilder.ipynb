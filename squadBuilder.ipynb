{
 "cells": [
  {
   "cell_type": "code",
   "execution_count": 3,
   "metadata": {},
   "outputs": [],
   "source": [
    "import numpy as np\n",
    "\n",
    "# Prices of players\n",
    "p80 = 400\n",
    "p81 = 400\n",
    "p82 = 600\n",
    "p83 = 900\n",
    "p84 = 3900\n",
    "p85 = 8000\n",
    "p86 = 9500\n",
    "p87 = 11000\n",
    "p88 = 14000\n",
    "p89 = 18000\n",
    "p90 = 20000\n",
    "p91 = 25000\n",
    "p92 = 40000\n",
    "p93 = 45000\n",
    "\n",
    "RATINGS = [p80, p81, p82, p83, p84, p85, p86, p87, p88, p89, p90, p91, p92, p93]"
   ]
  },
  {
   "cell_type": "code",
   "execution_count": 4,
   "metadata": {},
   "outputs": [],
   "source": [
    "# Players I own\n",
    "own80 = 9\n",
    "own81 = 9\n",
    "own82 = 9\n",
    "own83 = 9\n",
    "own84 = 9\n",
    "own85 = 4\n",
    "own86 = 6\n",
    "own87 = 2\n",
    "own88 = 1\n",
    "own89 = 2\n",
    "own90 = 0\n",
    "own91 = 1\n",
    "own92 = 3\n",
    "own93 = 3\n",
    "\n",
    "OWNED_RATINGS = [own80, own81, own82, own83, own84, own85, own86, own87, own88, own89, own90, own91, own92, own93]\n",
    "OWNED_RATINGS = [0]*14"
   ]
  },
  {
   "cell_type": "code",
   "execution_count": 5,
   "metadata": {},
   "outputs": [],
   "source": [
    "squadPossibilities = np.array([[0, 0, 0, 1, 3, 6,\t1, 0,\t0],\n",
    "                     [0, 0, 0, 0, 2, 9,\t0, 0,\t0],\n",
    "                     [0, 0, 0, 0, 6, 3,\t2, 0,\t0],\n",
    "                     [1, 0, 0, 0, 0, 10,\t0, 0,\t0],\n",
    "                     [0, 0, 0, 1, 6, 1,\t3, 0,\t0],\n",
    "                     [0, 0, 0, 3, 3, 2,\t3, 0,\t0],\n",
    "                     [0, 0, 0, 1, 6, 2,\t1, 1,\t0],\n",
    "                     [0, 0, 0, 0, 6, 4,\t0, 1,\t0],\n",
    "                     [0, 0, 0, 0, 9, 0,\t0, 2,\t0],\n",
    "                     [0, 0, 0, 6, 0, 1,\t4, 0,\t0],\n",
    "                     [0, 0, 1, 4, 1, 1,\t4, 0,\t0],\n",
    "                     [0, 0, 0, 1, 6, 3,\t0, 0,\t1],\n",
    "                     [0, 0, 0, 3, 3, 4,\t0, 0,\t1],\n",
    "                     [0, 0, 0, 2, 7, 0,\t0, 1,\t1],\n",
    "                     [0, 0, 1, 0, 8, 0,\t0, 1,\t1],\n",
    "                     [0, 4, 1, 0, 1, 0,\t4, 0, 1]])\n",
    "\n",
    "def getParameters(rating: str):\n",
    "    match rating:\n",
    "      case '85':\n",
    "          idx = (0, 9)\n",
    "          ratingRange = RATINGS[idx[0]:idx[1]]\n",
    "          ownedPlayers = OWNED_RATINGS[idx[0]:idx[1]]\n",
    "      case '86':\n",
    "          idx = (1, 10)\n",
    "          ratingRange = RATINGS[idx[0]:idx[1]]\n",
    "          ownedPlayers = OWNED_RATINGS[idx[0]:idx[1]]\n",
    "      case '87':\n",
    "          idx = (2, 11)\n",
    "          ratingRange = RATINGS[idx[0]:idx[1]]\n",
    "          ownedPlayers = OWNED_RATINGS[idx[0]:idx[1]]\n",
    "      case '88':\n",
    "          idx = (3, 12)\n",
    "          ratingRange = RATINGS[idx[0]:idx[1]]\n",
    "          ownedPlayers = OWNED_RATINGS[idx[0]:idx[1]]\n",
    "      case '89':\n",
    "          idx = (4, 13)\n",
    "          ratingRange = RATINGS[idx[0]:idx[1]]\n",
    "          ownedPlayers = OWNED_RATINGS[idx[0]:idx[1]]\n",
    "      case '90':\n",
    "          idx = (5, 14)\n",
    "          ratingRange = RATINGS[idx[0]:idx[1]]\n",
    "          ownedPlayers = OWNED_RATINGS[idx[0]:idx[1]]\n",
    "          \n",
    "    return np.array(ratingRange), np.array(ownedPlayers), idx\n",
    "\n",
    "def getCheapestSquad(rating):\n",
    "    rating = str(rating)\n",
    "        \n",
    "    prices, ownedPlayers, idx = getParameters(rating)\n",
    "    P = []\n",
    "    for squad in squadPossibilities:\n",
    "        price = sum((np.maximum(0, squad - ownedPlayers))*prices)\n",
    "        P.append(price)\n",
    "    \n",
    "    lowestPriceIndex = np.argmin(P)\n",
    "    lowestPrice = P[lowestPriceIndex]\n",
    "    cheapestSquadTobuild = squadPossibilities[lowestPriceIndex]\n",
    "    playersToBuy = np.maximum(0, cheapestSquadTobuild - ownedPlayers)\n",
    "\n",
    "    return P, lowestPrice, cheapestSquadTobuild, ownedPlayers, playersToBuy, idx\n",
    "\n",
    "def getPlayersRatingsToBuy(cheapestSquadTobuild, idx):\n",
    "    ratingsOfPlayersToBuy = {}\n",
    "    for i, rating in enumerate(cheapestSquadTobuild):\n",
    "        ratingsOfPlayersToBuy[f\"{80 + idx[0] + i}\"] = rating\n",
    "    return ratingsOfPlayersToBuy"
   ]
  },
  {
   "cell_type": "code",
   "execution_count": 9,
   "metadata": {},
   "outputs": [],
   "source": [
    "rating = 87\n",
    "P, lowestPrice, cheapestSquadTobuild, ownedPlayers, playersToBuy, idx = getCheapestSquad(rating)"
   ]
  },
  {
   "cell_type": "code",
   "execution_count": 10,
   "metadata": {},
   "outputs": [
    {
     "name": "stdout",
     "output_type": "stream",
     "text": [
      "\n",
      "Cheapest squad to build: - 93000 coins\n"
     ]
    },
    {
     "data": {
      "text/plain": [
       "{'82': 0,\n",
       " '83': 4,\n",
       " '84': 1,\n",
       " '85': 0,\n",
       " '86': 1,\n",
       " '87': 0,\n",
       " '88': 4,\n",
       " '89': 0,\n",
       " '90': 1}"
      ]
     },
     "execution_count": 10,
     "metadata": {},
     "output_type": "execute_result"
    }
   ],
   "source": [
    "print(\"\\nCheapest squad to build:\", f\"- {lowestPrice} coins\")\n",
    "getPlayersRatingsToBuy(cheapestSquadTobuild, idx)"
   ]
  },
  {
   "cell_type": "code",
   "execution_count": 11,
   "metadata": {},
   "outputs": [
    {
     "name": "stdout",
     "output_type": "stream",
     "text": [
      "\n",
      "Already owned players:   \n"
     ]
    },
    {
     "data": {
      "text/plain": [
       "{'82': 0,\n",
       " '83': 0,\n",
       " '84': 0,\n",
       " '85': 0,\n",
       " '86': 0,\n",
       " '87': 0,\n",
       " '88': 0,\n",
       " '89': 0,\n",
       " '90': 0}"
      ]
     },
     "execution_count": 11,
     "metadata": {},
     "output_type": "execute_result"
    }
   ],
   "source": [
    "print(\"\\nAlready owned players:   \")\n",
    "getPlayersRatingsToBuy(ownedPlayers, idx)"
   ]
  },
  {
   "cell_type": "code",
   "execution_count": 12,
   "metadata": {},
   "outputs": [
    {
     "name": "stdout",
     "output_type": "stream",
     "text": [
      "\n",
      "Players to buy:  - 93000 coins\n"
     ]
    },
    {
     "data": {
      "text/plain": [
       "{'82': 0,\n",
       " '83': 4,\n",
       " '84': 1,\n",
       " '85': 0,\n",
       " '86': 1,\n",
       " '87': 0,\n",
       " '88': 4,\n",
       " '89': 0,\n",
       " '90': 1}"
      ]
     },
     "execution_count": 12,
     "metadata": {},
     "output_type": "execute_result"
    }
   ],
   "source": [
    "print(\"\\nPlayers to buy:\", f\" - {lowestPrice} coins\")\n",
    "getPlayersRatingsToBuy(playersToBuy, idx)"
   ]
  },
  {
   "cell_type": "code",
   "execution_count": null,
   "metadata": {},
   "outputs": [],
   "source": []
  },
  {
   "cell_type": "code",
   "execution_count": null,
   "metadata": {},
   "outputs": [],
   "source": []
  }
 ],
 "metadata": {
  "kernelspec": {
   "display_name": "Python 3",
   "language": "python",
   "name": "python3"
  },
  "language_info": {
   "codemirror_mode": {
    "name": "ipython",
    "version": 3
   },
   "file_extension": ".py",
   "mimetype": "text/x-python",
   "name": "python",
   "nbconvert_exporter": "python",
   "pygments_lexer": "ipython3",
   "version": "3.10.4"
  },
  "orig_nbformat": 4
 },
 "nbformat": 4,
 "nbformat_minor": 2
}
